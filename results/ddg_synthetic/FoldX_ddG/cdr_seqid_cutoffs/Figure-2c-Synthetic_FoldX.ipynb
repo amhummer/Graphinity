{
 "cells": [
  {
   "cell_type": "code",
   "execution_count": 1,
   "id": "8d077ebb-49f3-4a76-a8ca-09ac828deca7",
   "metadata": {},
   "outputs": [],
   "source": [
    "import numpy as np\n",
    "import pandas as pd\n",
    "from scipy.stats import pearsonr\n",
    "import matplotlib.pyplot as plt"
   ]
  },
  {
   "cell_type": "markdown",
   "id": "10b9c3cf-38a3-4994-a0ca-2a97e8c16d8a",
   "metadata": {},
   "source": [
    "### Load data: model predictions and true values"
   ]
  },
  {
   "cell_type": "code",
   "execution_count": 2,
   "id": "26db7ecd-325c-4eac-a978-7c24692c012b",
   "metadata": {},
   "outputs": [],
   "source": [
    "def calc_pc(cutoff):\n",
    "\n",
    "    df = pd.DataFrame(columns=[\"wt_pdb\",\"mut_pdb\",\"pred_score\",\"true_label\"])\n",
    "    for fold in range(10):\n",
    "        df = pd.concat([df, pd.read_csv(f\"model_predictions/Graphinity_predictions_test-Foldx_ddG_942723-{cutoff}-fold{fold}.csv\")])\n",
    "    assert df.shape[0] == 942723\n",
    "        \n",
    "    pc = pearsonr(df[\"true_label\"],df[\"pred_score\"])[0]\n",
    "    \n",
    "    return pc"
   ]
  },
  {
   "cell_type": "code",
   "execution_count": 3,
   "id": "21ad86a7-5dce-4b27-a176-85f77c8e4d05",
   "metadata": {},
   "outputs": [],
   "source": [
    "pcs = []\n",
    "for cutoff in [\"random\",\"cutoff_100\",\"cutoff_90\",\"cutoff_70\",\"cutoff_ab_ag_70\"]:\n",
    "    pcs.append([cutoff.replace(\"random\",\"None\").replace(\"cutoff_ab_ag_70\",\"Ab_70_Ag_70\").replace(\"cutoff_\",\"\"),\n",
    "                calc_pc(cutoff=cutoff)])"
   ]
  },
  {
   "cell_type": "code",
   "execution_count": 4,
   "id": "b795dbda-ae27-4cdb-ae77-30f4efdf94bf",
   "metadata": {},
   "outputs": [],
   "source": [
    "pcs_df = pd.DataFrame(pcs, columns=[\"Cutoff\",\"Pearson's Correlation\"])"
   ]
  },
  {
   "cell_type": "markdown",
   "id": "7d0bd77e-4768-43bc-9c33-a9e852320b34",
   "metadata": {},
   "source": [
    "### Plot"
   ]
  },
  {
   "cell_type": "code",
   "execution_count": 5,
   "id": "884b9f7e-b427-4ca5-a896-554540a1b9b8",
   "metadata": {},
   "outputs": [
    {
     "data": {
      "image/png": "[encoded data removed]",
      "text/plain": [
       "<Figure size 432x288 with 1 Axes>"
      ]
     },
     "metadata": {
      "needs_background": "light"
     },
     "output_type": "display_data"
    }
   ],
   "source": [
    "plt.plot(pcs_df.iloc[:4][\"Cutoff\"],pcs_df.iloc[:4][\"Pearson's Correlation\"], marker=\"x\", color=\"#08519c\",\n",
    "         linestyle=\"-\", label=\"Synthetic_FoldX_ΔΔG_942723\")\n",
    "\n",
    "plt.ylabel(\"10-Fold CV Test Pearson's Correlation\")\n",
    "plt.xlabel(\"Train-Validation-Test Length-Matched CDR Sequence Identity Cutoff (%)\")\n",
    "plt.legend(frameon=False, bbox_to_anchor=(0.52, 1.125))\n",
    "\n",
    "plt.ylim(0,1)\n",
    "\n",
    "plt.tight_layout()\n",
    "\n",
    "plt.savefig(\"Figure-2c-Synthetic_FoldX_ddG_942723.png\", dpi=300)"
   ]
  },
  {
   "cell_type": "code",
   "execution_count": null,
   "id": "c04c2e93-216f-419b-8ddd-8cc1997bb36c",
   "metadata": {},
   "outputs": [],
   "source": []
  }
 ],
 "metadata": {
  "kernelspec": {
   "display_name": "Python 3",
   "language": "python",
   "name": "python3"
  },
  "language_info": {
   "codemirror_mode": {
    "name": "ipython",
    "version": 3
   },
   "file_extension": ".py",
   "mimetype": "text/x-python",
   "name": "python",
   "nbconvert_exporter": "python",
   "pygments_lexer": "ipython3",
   "version": "3.9.1"
  }
 },
 "nbformat": 4,
 "nbformat_minor": 5
}
