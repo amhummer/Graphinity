{
 "cells": [
  {
   "cell_type": "code",
   "execution_count": 1,
   "id": "63aec458-1b27-4183-95b9-a797c892dfb7",
   "metadata": {},
   "outputs": [],
   "source": [
    "import numpy as np\n",
    "import pandas as pd\n",
    "from scipy.stats import pearsonr\n",
    "import matplotlib.pyplot as plt\n",
    "import itertools"
   ]
  },
  {
   "cell_type": "markdown",
   "id": "bd1015df-f001-4842-a30d-099fd53af55c",
   "metadata": {},
   "source": [
    "### Load data: model predictions and true values"
   ]
  },
  {
   "cell_type": "markdown",
   "id": "1d408109-23e8-4e33-9586-9d7a9801cc6a",
   "metadata": {},
   "source": [
    "##### Randomly sampled"
   ]
  },
  {
   "cell_type": "code",
   "execution_count": 2,
   "id": "86f457ac-b383-492d-9882-ff7fec137ad8",
   "metadata": {},
   "outputs": [],
   "source": [
    "diversity_types = [\"random_sampling\"] + [f\"{min_max}_{diversity_type}_diversity\" for min_max in [\"min\",\"max\"] for diversity_type in [\"sequence\",\"substitution_type\", \"mutation_distribution\"]]\n",
    "\n",
    "metrics = []\n",
    "for diversity_type in diversity_types:\n",
    "    df = pd.read_csv(f\"model_predictions/Graphinity_predictions_test-varying_dataset_diversity-{diversity_type}.csv\")\n",
    "\n",
    "    # pearson's correlation\n",
    "    pc = pearsonr(df[\"true_label\"],df[\"pred_score\"])[0]\n",
    "\n",
    "    # distribution comparison - ratio of st devs\n",
    "    sdr = df[\"pred_score\"].std()/df[\"true_label\"].std()\n",
    "    if sdr > 1:\n",
    "        sdr = df[\"true_label\"].std()/df[\"pred_score\"].std()\n",
    "\n",
    "    if diversity_type == \"random_sampling\":\n",
    "        metrics.append([\"randomly_sampled\", \"NA\", pc, sdr])\n",
    "    else:\n",
    "        metrics.append([\"_\".join(diversity_type.split(\"_\")[1:-1]), diversity_type.split(\"_\")[0], pc, sdr])"
   ]
  },
  {
   "cell_type": "code",
   "execution_count": 3,
   "id": "b8937111-0bb2-4c9f-a23b-973e3a80e83d",
   "metadata": {},
   "outputs": [],
   "source": [
    "metrics_df = pd.DataFrame(metrics, columns=[\"Diversity\",\"Min/Max\",\"Pearson's Correlation\",\"Standard Deviation Ratio\"])"
   ]
  },
  {
   "cell_type": "markdown",
   "id": "7584b4a1-88d2-4bf8-88c8-a7e48e76743b",
   "metadata": {},
   "source": [
    "### Plot"
   ]
  },
  {
   "cell_type": "code",
   "execution_count": 4,
   "id": "023f1cbb-1a0b-4a70-b489-22bdd391c3df",
   "metadata": {},
   "outputs": [
    {
     "data": {
      "image/png": "[encoded data removed]",
      "text/plain": [
       "<Figure size 612x360 with 4 Axes>"
      ]
     },
     "metadata": {
      "needs_background": "light"
     },
     "output_type": "display_data"
    }
   ],
   "source": [
    "fig, ax = plt.subplots(nrows=1, ncols=4, sharey=True, figsize=(8.5, 5))\n",
    "\n",
    "diversity_types = metrics_df.drop_duplicates(subset=[\"Diversity\"])[\"Diversity\"].to_list()\n",
    "for i in range(len(diversity_types)):\n",
    "    if i == 0:\n",
    "        ax[i].set_title(diversity_types[i].replace(\"_\",\"\\n\").title(), fontsize=12)\n",
    "        ax[i].scatter([0.45], metrics_df[metrics_df[\"Diversity\"] == \"randomly_sampled\"][\"Pearson's Correlation\"],\n",
    "                      marker=\"x\", s=150, linewidth=2, color=\"#252525\",\n",
    "                      label=\"Test Pearson's Correlation\")\n",
    "        ax[i].scatter([0.55], metrics_df[metrics_df[\"Diversity\"] == \"randomly_sampled\"][\"Standard Deviation Ratio\"],\n",
    "                      marker=\"+\", s=150, linewidth=2, color=\"#252525\",\n",
    "                      label=\"Test Standard Deviation Ratio\")\n",
    "        ax[i].scatter([], [], color=\"#006d2c\", label=\"Maximum\", marker=\"_\", s=150)\n",
    "        ax[i].scatter([], [], color=\"#a50f15\", label=\"Minimum\", marker=\"_\", s=150)\n",
    "\n",
    "    else:\n",
    "        ax[i].set_title(diversity_types[i].replace(\"_\",\" \").title() + \"\\nDiversity\", fontsize=12)\n",
    "\n",
    "        min_df = metrics_df[(metrics_df[\"Diversity\"] == diversity_types[i]) & (metrics_df[\"Min/Max\"] == \"min\")]\n",
    "        max_df = metrics_df[(metrics_df[\"Diversity\"] == diversity_types[i]) & (metrics_df[\"Min/Max\"] == \"max\")]\n",
    "        \n",
    "        ax[i].scatter([0.45], min_df[\"Pearson's Correlation\"], marker=\"x\", s=150, linewidth=2,\n",
    "                      color=\"#a50f15\", label=\"Minimum – Test Pearson's Correlation\")\n",
    "        ax[i].scatter([0.45], max_df[\"Pearson's Correlation\"], marker=\"x\", s=150, linewidth=2,\n",
    "                      color=\"#006d2c\", label=\"Maximum – Test Pearson's Correlation\")\n",
    "        ax[i].scatter([0.55], min_df[\"Standard Deviation Ratio\"],   marker=\"+\", s=180, linewidth=2,\n",
    "                      color=\"#a50f15\", label=\"Minimum – Standard Deviation Ratio\")\n",
    "        ax[i].scatter([0.55], max_df[\"Standard Deviation Ratio\"],   marker=\"+\", s=180, linewidth=2,\n",
    "                      color=\"#006d2c\", label=\"Maximum – Standard Deviation Ratio\")\n",
    "        \n",
    "        plt.setp(ax[i].get_yticklabels(), visible=False)\n",
    "        \n",
    "    ax[i].set_xticks([])\n",
    "    ax[i].set_ylim(-0.05,1.05)\n",
    "    ax[i].set_xlim(0.4,0.6)\n",
    "\n",
    "ax[0].tick_params(axis=\"y\", which=\"major\", labelsize=12)\n",
    "\n",
    "ax[0].set_ylim(-0.05,1.05)\n",
    "ax[0].set_xlim(0.4,0.6)\n",
    "\n",
    "ax[0].set_ylabel(\"Test Metric\", fontsize=12)\n",
    "\n",
    "ax[0].legend(frameon=False, bbox_to_anchor=(3.9, 0), ncol=2, fontsize=12)\n",
    "\n",
    "plt.savefig(\"Figure-3b.png\", dpi=300)"
   ]
  },
  {
   "cell_type": "code",
   "execution_count": null,
   "id": "ecb57b1c-0487-4387-a963-f5d49bee967d",
   "metadata": {},
   "outputs": [],
   "source": []
  }
 ],
 "metadata": {
  "kernelspec": {
   "display_name": "Python 3",
   "language": "python",
   "name": "python3"
  },
  "language_info": {
   "codemirror_mode": {
    "name": "ipython",
    "version": 3
   },
   "file_extension": ".py",
   "mimetype": "text/x-python",
   "name": "python",
   "nbconvert_exporter": "python",
   "pygments_lexer": "ipython3",
   "version": "3.9.1"
  }
 },
 "nbformat": 4,
 "nbformat_minor": 5
}
